{
 "cells": [
  {
   "cell_type": "markdown",
   "id": "98be34b2",
   "metadata": {},
   "source": [
    "catherine's best model"
   ]
  },
  {
   "cell_type": "code",
   "execution_count": 247,
   "id": "3322f79a",
   "metadata": {},
   "outputs": [],
   "source": [
    "import pandas as pd\n",
    "import numpy as np\n",
    "from sklearn.model_selection import train_test_split\n",
    "from sklearn.model_selection import KFold\n",
    "from sklearn import metrics\n",
    "from sklearn.preprocessing import StandardScaler\n",
    "from sklearn.tree import DecisionTreeClassifier\n",
    "from sklearn.ensemble import BaggingClassifier\n",
    "from sklearn.ensemble import AdaBoostClassifier\n",
    "from sklearn.preprocessing import LabelEncoder\n",
    "from sklearn.neighbors import KNeighborsClassifier\n",
    "from sklearn.ensemble import VotingClassifier\n",
    "from sklearn.ensemble import StackingClassifier\n",
    "import matplotlib.pyplot as plt\n",
    "import seaborn as sns"
   ]
  },
  {
   "cell_type": "code",
   "execution_count": 248,
   "id": "3eff1364",
   "metadata": {},
   "outputs": [
    {
     "data": {
      "text/html": [
       "<div>\n",
       "<style scoped>\n",
       "    .dataframe tbody tr th:only-of-type {\n",
       "        vertical-align: middle;\n",
       "    }\n",
       "\n",
       "    .dataframe tbody tr th {\n",
       "        vertical-align: top;\n",
       "    }\n",
       "\n",
       "    .dataframe thead th {\n",
       "        text-align: right;\n",
       "    }\n",
       "</style>\n",
       "<table border=\"1\" class=\"dataframe\">\n",
       "  <thead>\n",
       "    <tr style=\"text-align: right;\">\n",
       "      <th></th>\n",
       "      <th>Pregnancies</th>\n",
       "      <th>Bmi</th>\n",
       "      <th>Age</th>\n",
       "      <th>Outcome</th>\n",
       "    </tr>\n",
       "  </thead>\n",
       "  <tbody>\n",
       "    <tr>\n",
       "      <th>0</th>\n",
       "      <td>6</td>\n",
       "      <td>39.0</td>\n",
       "      <td>41</td>\n",
       "      <td>True</td>\n",
       "    </tr>\n",
       "    <tr>\n",
       "      <th>1</th>\n",
       "      <td>5</td>\n",
       "      <td>41.0</td>\n",
       "      <td>37</td>\n",
       "      <td>True</td>\n",
       "    </tr>\n",
       "    <tr>\n",
       "      <th>2</th>\n",
       "      <td>1</td>\n",
       "      <td>27.7</td>\n",
       "      <td>21</td>\n",
       "      <td>False</td>\n",
       "    </tr>\n",
       "    <tr>\n",
       "      <th>3</th>\n",
       "      <td>1</td>\n",
       "      <td>24.7</td>\n",
       "      <td>22</td>\n",
       "      <td>False</td>\n",
       "    </tr>\n",
       "    <tr>\n",
       "      <th>4</th>\n",
       "      <td>1</td>\n",
       "      <td>32.0</td>\n",
       "      <td>22</td>\n",
       "      <td>False</td>\n",
       "    </tr>\n",
       "  </tbody>\n",
       "</table>\n",
       "</div>"
      ],
      "text/plain": [
       "   Pregnancies   Bmi  Age  Outcome\n",
       "0            6  39.0   41     True\n",
       "1            5  41.0   37     True\n",
       "2            1  27.7   21    False\n",
       "3            1  24.7   22    False\n",
       "4            1  32.0   22    False"
      ]
     },
     "execution_count": 248,
     "metadata": {},
     "output_type": "execute_result"
    }
   ],
   "source": [
    "path = 'downloads/abcd.csv'\n",
    "col_names = ['Pregnancies', 'Bmi', 'Age', 'Outcome']\n",
    "diabetes = pd.read_csv(path)\n",
    "diabetes.head()"
   ]
  },
  {
   "cell_type": "code",
   "execution_count": 249,
   "id": "1d0f60bc",
   "metadata": {},
   "outputs": [],
   "source": [
    "X = diabetes[col_names[:-1]]\n",
    "y = diabetes.Outcome"
   ]
  },
  {
   "cell_type": "code",
   "execution_count": 250,
   "id": "63d5f143",
   "metadata": {},
   "outputs": [],
   "source": [
    "X_train, X_test, y_train, y_test = train_test_split(X, y, random_state = 4, test_size = 1/10)\n",
    "\n",
    "ss = StandardScaler()\n",
    "X_train = ss.fit_transform(X_train)\n",
    "X_test = ss.transform(X_test)"
   ]
  },
  {
   "cell_type": "code",
   "execution_count": 251,
   "id": "5d27b900",
   "metadata": {},
   "outputs": [
    {
     "data": {
      "text/plain": [
       "DecisionTreeClassifier(max_depth=3, min_samples_leaf=5, random_state=42)"
      ]
     },
     "execution_count": 251,
     "metadata": {},
     "output_type": "execute_result"
    }
   ],
   "source": [
    "clf_model = DecisionTreeClassifier(criterion=\"gini\", random_state=42,max_depth=3, min_samples_leaf=5)   \n",
    "clf_model.fit(X, y)"
   ]
  },
  {
   "cell_type": "markdown",
   "id": "e064753e",
   "metadata": {},
   "source": [
    "aanya's best model"
   ]
  },
  {
   "cell_type": "code",
   "execution_count": 252,
   "id": "04080176",
   "metadata": {},
   "outputs": [],
   "source": [
    "path = 'downloads/archive (1)/early diabetes.csv'\n",
    "data = pd.read_csv(path, delimiter=';')"
   ]
  },
  {
   "cell_type": "code",
   "execution_count": 253,
   "id": "a3554821",
   "metadata": {},
   "outputs": [],
   "source": [
    "label_encoder = LabelEncoder() \n",
    "data['gender'] = label_encoder.fit_transform(data['gender'])"
   ]
  },
  {
   "cell_type": "code",
   "execution_count": 254,
   "id": "5332b529",
   "metadata": {},
   "outputs": [],
   "source": [
    "ss = StandardScaler()\n",
    "\n",
    "y_ing = data['class']\n",
    "X_ing = data.drop(['class'], axis = 1)"
   ]
  },
  {
   "cell_type": "code",
   "execution_count": 255,
   "id": "9a649763",
   "metadata": {},
   "outputs": [],
   "source": [
    "X_training,X_testing,y_training,y_testing = train_test_split(X_ing, y_ing, test_size=1/3)"
   ]
  },
  {
   "cell_type": "code",
   "execution_count": 256,
   "id": "ef5eaf3c",
   "metadata": {},
   "outputs": [],
   "source": [
    "knn = KNeighborsClassifier(n_neighbors = 4, weights = 'distance')"
   ]
  },
  {
   "cell_type": "code",
   "execution_count": 257,
   "id": "a4b54996",
   "metadata": {},
   "outputs": [
    {
     "data": {
      "text/plain": [
       "KNeighborsClassifier(n_neighbors=4, weights='distance')"
      ]
     },
     "execution_count": 257,
     "metadata": {},
     "output_type": "execute_result"
    }
   ],
   "source": [
    "knn.fit(X_ing, y_ing)"
   ]
  },
  {
   "cell_type": "markdown",
   "id": "33f85e1a",
   "metadata": {},
   "source": [
    "combining???"
   ]
  },
  {
   "cell_type": "code",
   "execution_count": 258,
   "id": "5c608b91",
   "metadata": {},
   "outputs": [
    {
     "data": {
      "text/html": [
       "<div>\n",
       "<style scoped>\n",
       "    .dataframe tbody tr th:only-of-type {\n",
       "        vertical-align: middle;\n",
       "    }\n",
       "\n",
       "    .dataframe tbody tr th {\n",
       "        vertical-align: top;\n",
       "    }\n",
       "\n",
       "    .dataframe thead th {\n",
       "        text-align: right;\n",
       "    }\n",
       "</style>\n",
       "<table border=\"1\" class=\"dataframe\">\n",
       "  <thead>\n",
       "    <tr style=\"text-align: right;\">\n",
       "      <th></th>\n",
       "      <th>Outcome</th>\n",
       "      <th>Pregnancies</th>\n",
       "      <th>Bmi</th>\n",
       "      <th>Age</th>\n",
       "      <th>Gender</th>\n",
       "      <th>Polyuria</th>\n",
       "      <th>Polydipsia</th>\n",
       "      <th>Sudden_weight_loss</th>\n",
       "      <th>Weakness</th>\n",
       "      <th>Polyphagia</th>\n",
       "      <th>Genital_thrush</th>\n",
       "      <th>Visual_blurring</th>\n",
       "      <th>Itching</th>\n",
       "      <th>Irritability</th>\n",
       "      <th>Delayed_healing</th>\n",
       "      <th>Partial_paresis</th>\n",
       "      <th>Muscle_stiffness</th>\n",
       "      <th>Alopecia</th>\n",
       "      <th>Obesity</th>\n",
       "    </tr>\n",
       "  </thead>\n",
       "  <tbody>\n",
       "    <tr>\n",
       "      <th>0</th>\n",
       "      <td>True</td>\n",
       "      <td>2.0</td>\n",
       "      <td>33.6</td>\n",
       "      <td>47</td>\n",
       "      <td>2</td>\n",
       "      <td>NaN</td>\n",
       "      <td>NaN</td>\n",
       "      <td>NaN</td>\n",
       "      <td>NaN</td>\n",
       "      <td>NaN</td>\n",
       "      <td>NaN</td>\n",
       "      <td>NaN</td>\n",
       "      <td>NaN</td>\n",
       "      <td>NaN</td>\n",
       "      <td>NaN</td>\n",
       "      <td>NaN</td>\n",
       "      <td>NaN</td>\n",
       "      <td>NaN</td>\n",
       "      <td>NaN</td>\n",
       "    </tr>\n",
       "    <tr>\n",
       "      <th>1</th>\n",
       "      <td>False</td>\n",
       "      <td>0.0</td>\n",
       "      <td>38.2</td>\n",
       "      <td>23</td>\n",
       "      <td>2</td>\n",
       "      <td>NaN</td>\n",
       "      <td>NaN</td>\n",
       "      <td>NaN</td>\n",
       "      <td>NaN</td>\n",
       "      <td>NaN</td>\n",
       "      <td>NaN</td>\n",
       "      <td>NaN</td>\n",
       "      <td>NaN</td>\n",
       "      <td>NaN</td>\n",
       "      <td>NaN</td>\n",
       "      <td>NaN</td>\n",
       "      <td>NaN</td>\n",
       "      <td>NaN</td>\n",
       "      <td>NaN</td>\n",
       "    </tr>\n",
       "    <tr>\n",
       "      <th>2</th>\n",
       "      <td>True</td>\n",
       "      <td>0.0</td>\n",
       "      <td>44.2</td>\n",
       "      <td>31</td>\n",
       "      <td>2</td>\n",
       "      <td>NaN</td>\n",
       "      <td>NaN</td>\n",
       "      <td>NaN</td>\n",
       "      <td>NaN</td>\n",
       "      <td>NaN</td>\n",
       "      <td>NaN</td>\n",
       "      <td>NaN</td>\n",
       "      <td>NaN</td>\n",
       "      <td>NaN</td>\n",
       "      <td>NaN</td>\n",
       "      <td>NaN</td>\n",
       "      <td>NaN</td>\n",
       "      <td>NaN</td>\n",
       "      <td>NaN</td>\n",
       "    </tr>\n",
       "    <tr>\n",
       "      <th>3</th>\n",
       "      <td>True</td>\n",
       "      <td>0.0</td>\n",
       "      <td>42.3</td>\n",
       "      <td>24</td>\n",
       "      <td>2</td>\n",
       "      <td>NaN</td>\n",
       "      <td>NaN</td>\n",
       "      <td>NaN</td>\n",
       "      <td>NaN</td>\n",
       "      <td>NaN</td>\n",
       "      <td>NaN</td>\n",
       "      <td>NaN</td>\n",
       "      <td>NaN</td>\n",
       "      <td>NaN</td>\n",
       "      <td>NaN</td>\n",
       "      <td>NaN</td>\n",
       "      <td>NaN</td>\n",
       "      <td>NaN</td>\n",
       "      <td>NaN</td>\n",
       "    </tr>\n",
       "    <tr>\n",
       "      <th>4</th>\n",
       "      <td>False</td>\n",
       "      <td>1.0</td>\n",
       "      <td>40.7</td>\n",
       "      <td>21</td>\n",
       "      <td>2</td>\n",
       "      <td>NaN</td>\n",
       "      <td>NaN</td>\n",
       "      <td>NaN</td>\n",
       "      <td>NaN</td>\n",
       "      <td>NaN</td>\n",
       "      <td>NaN</td>\n",
       "      <td>NaN</td>\n",
       "      <td>NaN</td>\n",
       "      <td>NaN</td>\n",
       "      <td>NaN</td>\n",
       "      <td>NaN</td>\n",
       "      <td>NaN</td>\n",
       "      <td>NaN</td>\n",
       "      <td>NaN</td>\n",
       "    </tr>\n",
       "  </tbody>\n",
       "</table>\n",
       "</div>"
      ],
      "text/plain": [
       "   Outcome  Pregnancies   Bmi  Age  Gender Polyuria Polydipsia  \\\n",
       "0     True          2.0  33.6   47       2      NaN        NaN   \n",
       "1    False          0.0  38.2   23       2      NaN        NaN   \n",
       "2     True          0.0  44.2   31       2      NaN        NaN   \n",
       "3     True          0.0  42.3   24       2      NaN        NaN   \n",
       "4    False          1.0  40.7   21       2      NaN        NaN   \n",
       "\n",
       "  Sudden_weight_loss Weakness Polyphagia Genital_thrush Visual_blurring  \\\n",
       "0                NaN      NaN        NaN            NaN             NaN   \n",
       "1                NaN      NaN        NaN            NaN             NaN   \n",
       "2                NaN      NaN        NaN            NaN             NaN   \n",
       "3                NaN      NaN        NaN            NaN             NaN   \n",
       "4                NaN      NaN        NaN            NaN             NaN   \n",
       "\n",
       "  Itching Irritability Delayed_healing Partial_paresis Muscle_stiffness  \\\n",
       "0     NaN          NaN             NaN             NaN              NaN   \n",
       "1     NaN          NaN             NaN             NaN              NaN   \n",
       "2     NaN          NaN             NaN             NaN              NaN   \n",
       "3     NaN          NaN             NaN             NaN              NaN   \n",
       "4     NaN          NaN             NaN             NaN              NaN   \n",
       "\n",
       "  Alopecia Obesity  \n",
       "0      NaN     NaN  \n",
       "1      NaN     NaN  \n",
       "2      NaN     NaN  \n",
       "3      NaN     NaN  \n",
       "4      NaN     NaN  "
      ]
     },
     "execution_count": 258,
     "metadata": {},
     "output_type": "execute_result"
    }
   ],
   "source": [
    "path = 'downloads/magnumOpus.csv'\n",
    "data = pd.read_csv(path)\n",
    "label_encoder = LabelEncoder() \n",
    "data['Gender'] = label_encoder.fit_transform(data['Gender'])\n",
    "data.head()"
   ]
  },
  {
   "cell_type": "code",
   "execution_count": 259,
   "id": "dc56e088",
   "metadata": {},
   "outputs": [],
   "source": [
    "cols = ['Pregnancies', 'Bmi', 'Age', 'Gender', 'Polyuria', 'Polydipsia', 'Sudden_weight_loss', 'Weakness', 'Polyphagia', 'Visual_blurring', 'Itching', 'Irritability', 'Delayed_healing', 'Partial_paresis', 'Muscle_stiffness', 'Alopecia', 'Obesity']\n",
    "from sklearn.impute import SimpleImputer\n",
    "imp = SimpleImputer(strategy='most_frequent')\n",
    "data = imp.fit_transform(data)\n",
    "data = pd.DataFrame(data)\n"
   ]
  },
  {
   "cell_type": "code",
   "execution_count": 260,
   "id": "a8caedfb",
   "metadata": {},
   "outputs": [],
   "source": [
    "X = data.iloc[:, 1:]\n",
    "y = data.iloc[:, 0]\n",
    "y=y.astype('int')\n",
    "\n",
    "X_train, X_test, y_train, y_test = train_test_split(X, y, test_size = 1/5)\n"
   ]
  },
  {
   "cell_type": "code",
   "execution_count": 261,
   "id": "289f8e29",
   "metadata": {},
   "outputs": [
    {
     "name": "stdout",
     "output_type": "stream",
     "text": [
      "11424    0\n",
      "7858     1\n",
      "2954     1\n",
      "665      0\n",
      "11816    0\n",
      "Name: 0, dtype: int32\n"
     ]
    }
   ],
   "source": [
    "print(y_train.head())"
   ]
  },
  {
   "cell_type": "markdown",
   "id": "ebf3309b",
   "metadata": {},
   "source": [
    "bagging(best)"
   ]
  },
  {
   "cell_type": "code",
   "execution_count": 263,
   "id": "6ec6e3e5",
   "metadata": {},
   "outputs": [],
   "source": [
    "bagging_model = BaggingClassifier(n_estimators=100, random_state=7)"
   ]
  },
  {
   "cell_type": "code",
   "execution_count": 264,
   "id": "22cddc88",
   "metadata": {},
   "outputs": [
    {
     "data": {
      "text/plain": [
       "BaggingClassifier(n_estimators=100, random_state=7)"
      ]
     },
     "execution_count": 264,
     "metadata": {},
     "output_type": "execute_result"
    }
   ],
   "source": [
    "bagging_model.fit(X_train, y_train)"
   ]
  },
  {
   "cell_type": "code",
   "execution_count": 265,
   "id": "bccc3cf4",
   "metadata": {},
   "outputs": [
    {
     "name": "stdout",
     "output_type": "stream",
     "text": [
      "0.9939083039435717\n"
     ]
    }
   ],
   "source": [
    "predict = bagging_model.predict(X_test)\n",
    "print(metrics.accuracy_score(y_test, predict))"
   ]
  },
  {
   "cell_type": "markdown",
   "id": "d0ea0f5c",
   "metadata": {},
   "source": [
    "voting classifier(BEST)"
   ]
  },
  {
   "cell_type": "code",
   "execution_count": 267,
   "id": "e44cbf22",
   "metadata": {},
   "outputs": [],
   "source": [
    "voter = VotingClassifier(estimators=[('KNeighborsClassifier', knn), ('DecisionTreeClassifier', clf_model)], voting='soft', weights=[2,1])"
   ]
  },
  {
   "cell_type": "code",
   "execution_count": 268,
   "id": "d5aadaa9",
   "metadata": {},
   "outputs": [
    {
     "data": {
      "text/plain": [
       "VotingClassifier(estimators=[('KNeighborsClassifier',\n",
       "                              KNeighborsClassifier(n_neighbors=4,\n",
       "                                                   weights='distance')),\n",
       "                             ('DecisionTreeClassifier',\n",
       "                              DecisionTreeClassifier(max_depth=3,\n",
       "                                                     min_samples_leaf=5,\n",
       "                                                     random_state=42))],\n",
       "                 voting='soft', weights=[2, 1])"
      ]
     },
     "execution_count": 268,
     "metadata": {},
     "output_type": "execute_result"
    }
   ],
   "source": [
    "voter.fit(X_train, y_train)"
   ]
  },
  {
   "cell_type": "code",
   "execution_count": 269,
   "id": "5e377250",
   "metadata": {},
   "outputs": [
    {
     "data": {
      "text/plain": [
       "0.9951907662712408"
      ]
     },
     "execution_count": 269,
     "metadata": {},
     "output_type": "execute_result"
    }
   ],
   "source": [
    "voter.score(X_test, y_test)"
   ]
  },
  {
   "cell_type": "markdown",
   "id": "017b66a9",
   "metadata": {},
   "source": [
    "boosting"
   ]
  },
  {
   "cell_type": "code",
   "execution_count": 270,
   "id": "d13c15cc",
   "metadata": {},
   "outputs": [],
   "source": [
    "AdaBoost = AdaBoostClassifier(base_estimator=clf_model, n_estimators=3, learning_rate=1, )"
   ]
  },
  {
   "cell_type": "code",
   "execution_count": 271,
   "id": "9af6d549",
   "metadata": {},
   "outputs": [
    {
     "data": {
      "text/plain": [
       "AdaBoostClassifier(base_estimator=DecisionTreeClassifier(max_depth=3,\n",
       "                                                         min_samples_leaf=5,\n",
       "                                                         random_state=42),\n",
       "                   learning_rate=1, n_estimators=3)"
      ]
     },
     "execution_count": 271,
     "metadata": {},
     "output_type": "execute_result"
    }
   ],
   "source": [
    "AdaBoost.fit(X_train, y_train)"
   ]
  },
  {
   "cell_type": "code",
   "execution_count": 272,
   "id": "03a13438",
   "metadata": {},
   "outputs": [
    {
     "data": {
      "text/plain": [
       "0.7136902853478679"
      ]
     },
     "execution_count": 272,
     "metadata": {},
     "output_type": "execute_result"
    }
   ],
   "source": [
    "predicting = AdaBoost.predict(X_test)\n",
    "metrics.accuracy_score(y_test, predicting)"
   ]
  },
  {
   "cell_type": "markdown",
   "id": "7fbcfcd4",
   "metadata": {},
   "source": [
    "stacking"
   ]
  },
  {
   "cell_type": "code",
   "execution_count": 273,
   "id": "653f49fc",
   "metadata": {},
   "outputs": [],
   "source": [
    "stacker = StackingClassifier(estimators=[('KNeighborsClassifier', knn), ('DecisionTreeClassifier', clf_model)], final_estimator=KNeighborsClassifier())"
   ]
  },
  {
   "cell_type": "code",
   "execution_count": 274,
   "id": "94ee9ea3",
   "metadata": {},
   "outputs": [
    {
     "data": {
      "text/plain": [
       "StackingClassifier(estimators=[('KNeighborsClassifier',\n",
       "                                KNeighborsClassifier(n_neighbors=4,\n",
       "                                                     weights='distance')),\n",
       "                               ('DecisionTreeClassifier',\n",
       "                                DecisionTreeClassifier(max_depth=3,\n",
       "                                                       min_samples_leaf=5,\n",
       "                                                       random_state=42))],\n",
       "                   final_estimator=KNeighborsClassifier())"
      ]
     },
     "execution_count": 274,
     "metadata": {},
     "output_type": "execute_result"
    }
   ],
   "source": [
    "stacker.fit(X_train, y_train)"
   ]
  },
  {
   "cell_type": "code",
   "execution_count": 275,
   "id": "27fc378e",
   "metadata": {},
   "outputs": [
    {
     "data": {
      "text/plain": [
       "0.9935876883616543"
      ]
     },
     "execution_count": 275,
     "metadata": {},
     "output_type": "execute_result"
    }
   ],
   "source": [
    "predict = stacker.predict(X_test)\n",
    "metrics.accuracy_score(y_test, predict)"
   ]
  }
 ],
 "metadata": {
  "kernelspec": {
   "display_name": "Python 3 (ipykernel)",
   "language": "python",
   "name": "python3"
  },
  "language_info": {
   "codemirror_mode": {
    "name": "ipython",
    "version": 3
   },
   "file_extension": ".py",
   "mimetype": "text/x-python",
   "name": "python",
   "nbconvert_exporter": "python",
   "pygments_lexer": "ipython3",
   "version": "3.9.7"
  }
 },
 "nbformat": 4,
 "nbformat_minor": 5
}
